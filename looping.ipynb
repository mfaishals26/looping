{
 "cells": [
  {
   "cell_type": "code",
   "execution_count": 1,
   "id": "3ebb93c9",
   "metadata": {},
   "outputs": [
    {
     "name": "stdout",
     "output_type": "stream",
     "text": [
      "1\n",
      "2\n",
      "3\n",
      "4\n",
      "5\n",
      "6\n",
      "7\n",
      "8\n",
      "9\n",
      "10\n"
     ]
    }
   ],
   "source": [
    "#for in range\n",
    "#print 1-10\n",
    "\n",
    "for i in range(1,11):\n",
    "    print(i)"
   ]
  },
  {
   "cell_type": "code",
   "execution_count": 2,
   "id": "0c42daa9",
   "metadata": {},
   "outputs": [
    {
     "name": "stdout",
     "output_type": "stream",
     "text": [
      "10\n",
      "20\n",
      "30\n",
      "40\n",
      "50\n",
      "60\n",
      "70\n",
      "80\n",
      "90\n",
      "100\n"
     ]
    }
   ],
   "source": [
    "#print 10 20 30 40 50 --- 100\n",
    "\n",
    "for i in range(1,11):\n",
    "    print(i *10)"
   ]
  },
  {
   "cell_type": "code",
   "execution_count": 3,
   "id": "59335fd9",
   "metadata": {
    "scrolled": false
   },
   "outputs": [
    {
     "name": "stdout",
     "output_type": "stream",
     "text": [
      "10\n",
      "20\n",
      "30\n",
      "40\n",
      "50\n",
      "60\n",
      "70\n",
      "80\n",
      "90\n",
      "100\n"
     ]
    }
   ],
   "source": [
    "for i in range(10,110,10):\n",
    "    print(i)"
   ]
  },
  {
   "cell_type": "code",
   "execution_count": 4,
   "id": "2b5ab89a",
   "metadata": {},
   "outputs": [
    {
     "name": "stdout",
     "output_type": "stream",
     "text": [
      "10\n",
      "9\n",
      "8\n",
      "7\n",
      "6\n",
      "5\n",
      "4\n",
      "3\n",
      "2\n",
      "1\n"
     ]
    }
   ],
   "source": [
    "#print 10,9,8,7,6 ---1\n",
    "\n",
    "for i in range (10,0,-1):\n",
    "    print (i)"
   ]
  },
  {
   "cell_type": "code",
   "execution_count": 5,
   "id": "72925d24",
   "metadata": {},
   "outputs": [
    {
     "name": "stdout",
     "output_type": "stream",
     "text": [
      "1\n",
      "-2\n",
      "3\n",
      "-4\n",
      "5\n",
      "-6\n",
      "7\n",
      "-8\n",
      "9\n",
      "-10\n"
     ]
    }
   ],
   "source": [
    "# 1 -2 3 -4 5 -6 7 -8 9 -10\n",
    "sign = 1\n",
    "for i in range (1,11):\n",
    "    print (i * sign)\n",
    "    sign*= -1\n",
    "  \n",
    "    \n"
   ]
  },
  {
   "cell_type": "code",
   "execution_count": 9,
   "id": "560c6945",
   "metadata": {},
   "outputs": [
    {
     "name": "stdout",
     "output_type": "stream",
     "text": [
      "isikan bilangan 4\n",
      "Faktorial dari 4 ! adalah 24\n"
     ]
    }
   ],
   "source": [
    "# faktorial => input 4! = 4 * 3 * 2 * 1 = 24\n",
    "\n",
    "number = int (input('isikan bilangan '))\n",
    "result = 1\n",
    "for i in range(1, number+1):\n",
    "    result = result * i\n",
    "    \n",
    "print(f\"Faktorial dari {number} ! adalah {result}\")\n",
    "    "
   ]
  },
  {
   "cell_type": "code",
   "execution_count": 7,
   "id": "d61b38a6",
   "metadata": {},
   "outputs": [
    {
     "name": "stdout",
     "output_type": "stream",
     "text": [
      "isikan bilangan 2\n",
      "isikan pangkat 3\n",
      "2 pangkat 3  adalah 8\n"
     ]
    }
   ],
   "source": [
    "number = int (input('isikan bilangan '))\n",
    "pangkat = int (input('isikan pangkat '))\n",
    "result = 1\n",
    "for i in range(1, pangkat +1):\n",
    "    result *= number\n",
    "    \n",
    "print(f\"{number} pangkat {pangkat}  adalah {result}\")"
   ]
  },
  {
   "cell_type": "code",
   "execution_count": 34,
   "id": "c1debb0b",
   "metadata": {
    "scrolled": true
   },
   "outputs": [
    {
     "name": "stdout",
     "output_type": "stream",
     "text": [
      "isikan bilangan : 9\n",
      "9 adalah bukan bilangan prima\n"
     ]
    }
   ],
   "source": [
    "# bilangan prima\n",
    "\n",
    "# bilangan prima adalah bilangan yang hanya bisa dibagi dengan bilangan itu sendiri dan 1\n",
    "\n",
    "# bilangan prima punya 2 faktor\n",
    "\n",
    "\n",
    "number = int (input('isikan bilangan : '))\n",
    "faktor = 0\n",
    "for i in range (1,number+1):\n",
    "    sisa = number % i\n",
    "    if number % i ==0:\n",
    "        faktor = faktor + 1\n",
    "        \n",
    "        \n",
    "if faktor == 2:\n",
    "    print(f\"{number} adalah bilangan prima\")\n",
    "else:\n",
    "    print(f\"{number} adalah bukan bilangan prima\")\n",
    "        \n"
   ]
  },
  {
   "cell_type": "code",
   "execution_count": 36,
   "id": "713ba1d5",
   "metadata": {},
   "outputs": [
    {
     "name": "stdout",
     "output_type": "stream",
     "text": [
      "22\n",
      "(0, 'u')\n",
      "(1, 'n')\n",
      "(2, 'i')\n",
      "(3, 'v')\n",
      "(4, 'e')\n",
      "(5, 'r')\n",
      "(6, 's')\n",
      "(7, 'i')\n",
      "(8, 't')\n",
      "(9, 'a')\n",
      "(10, 's')\n",
      "(11, ' ')\n",
      "(12, 'n')\n",
      "(13, 'u')\n",
      "(14, 's')\n",
      "(15, 'a')\n",
      "(16, ' ')\n",
      "(17, 'p')\n",
      "(18, 'u')\n",
      "(19, 't')\n",
      "(20, 'r')\n",
      "(21, 'a')\n"
     ]
    }
   ],
   "source": [
    "kampus = \"universitas nusa putra\"\n",
    "print(len(kampus))\n",
    "\n",
    "for i in enumerate(kampus):\n",
    "    print(i)"
   ]
  },
  {
   "cell_type": "code",
   "execution_count": 63,
   "id": "453b5db4",
   "metadata": {},
   "outputs": [
    {
     "name": "stdout",
     "output_type": "stream",
     "text": [
      "jumlah huruf a:3\n",
      "jumlah huruf i:2\n",
      "jumlah huruf u:4\n",
      "jumlah huruf e:0\n",
      "jumlah huruf o:0\n",
      "jumlah huruf vokal:9\n"
     ]
    }
   ],
   "source": [
    "#menghitung jumlah huruf vocal\n",
    "\n",
    "kampus = \"Universitas Nusa Putra\" #panjang 22\n",
    "panjang = len(kampus)\n",
    "vokal_a =0\n",
    "vokal_i =0\n",
    "vokal_u =0\n",
    "vokal_e =0\n",
    "vokal_o =0\n",
    "\n",
    "for i in range(0,panjang):\n",
    "    if kampus[i]=='a'or kampus[i]=='a':\n",
    "        vokal_a +=1\n",
    "    elif kampus[i]=='i'or kampus[i]=='I':\n",
    "        vokal_i +=1\n",
    "    elif kampus[i]=='u'or kampus[i]=='U':\n",
    "        vokal_u +=1\n",
    "    elif kampus[i]=='e'or kampus[i]=='e':\n",
    "        vokal_u +=1\n",
    "    elif kampus[i]=='o'or kampus[i]=='o':\n",
    "        vokal_u +=1\n",
    "        \n",
    "print(f\"jumlah huruf a:{vokal_a}\")\n",
    "print(f\"jumlah huruf i:{vokal_i}\")\n",
    "print(f\"jumlah huruf u:{vokal_u}\")\n",
    "print(f\"jumlah huruf e:{vokal_e}\")\n",
    "print(f\"jumlah huruf o:{vokal_o}\")\n",
    "print(f\"jumlah huruf vokal:{vokal_a + vokal_i + vokal_u + vokal_e + vokal_o}\")\n",
    "\n",
    "\n",
    "\n"
   ]
  },
  {
   "cell_type": "code",
   "execution_count": 69,
   "id": "cd2f0c1d",
   "metadata": {},
   "outputs": [
    {
     "name": "stdout",
     "output_type": "stream",
     "text": [
      "isikan kalimat: aku\n",
      "a u\n",
      "k k\n",
      "u a\n"
     ]
    }
   ],
   "source": [
    "kalimat = input(\"isikan kalimat: \")\n",
    "panjang_kalimat = len(kalimat)\n",
    "\n",
    "#aku = > uka\n",
    "\n",
    "for i in range (0,panjang_kalimat):\n",
    "    print(kalimat[i],kalimat[panjang_kalimat - i-1])"
   ]
  },
  {
   "cell_type": "code",
   "execution_count": 131,
   "id": "06d7259f",
   "metadata": {},
   "outputs": [
    {
     "name": "stdout",
     "output_type": "stream",
     "text": [
      "isikan kalimat: aku\n",
      "aku adalah bukan palindrome\n",
      "apakah mau mengulang program? Y/TT\n"
     ]
    }
   ],
   "source": [
    "#cek kalimat palindrome atau bukan\n",
    "# kanan > kiri itu sama\n",
    "#kasur rusak => palindrom\n",
    "ulang = \"Y\"\n",
    "while(ulang== \"Y\"):\n",
    "\n",
    "    kalimat = input(\"isikan kalimat: \")\n",
    "    panjang_kalimat = len(kalimat)\n",
    "\n",
    "\n",
    "\n",
    "    isPalindrome = True\n",
    "    for i in range (0,panjang_kalimat):\n",
    "        urut = kalimat[i]\n",
    "        kebalikan = kalimat[panjang_kalimat - i-1]\n",
    "    \n",
    "        if urut != kebalikan:\n",
    "            isPalindrome = False\n",
    "            break\n",
    "        \n",
    "    if isPalindrome==True:\n",
    "        print(f\"{kalimat} adalah palindrome\")\n",
    "    else:\n",
    "        print(f\"{kalimat} adalah bukan palindrome\")\n",
    "        \n",
    "    ulang = input('apakah mau mengulang program? Y/T')\n",
    "        \n",
    "  "
   ]
  },
  {
   "cell_type": "code",
   "execution_count": 132,
   "id": "ffe9848c",
   "metadata": {},
   "outputs": [
    {
     "name": "stdout",
     "output_type": "stream",
     "text": [
      "i: 1 dan j : 1\n",
      "i: 1 dan j : 2\n",
      "i: 1 dan j : 3\n",
      "i: 1 dan j : 4\n",
      "i: 2 dan j : 1\n",
      "i: 2 dan j : 2\n",
      "i: 2 dan j : 3\n",
      "i: 2 dan j : 4\n",
      "i: 3 dan j : 1\n",
      "i: 3 dan j : 2\n",
      "i: 3 dan j : 3\n",
      "i: 3 dan j : 4\n",
      "i: 4 dan j : 1\n",
      "i: 4 dan j : 2\n",
      "i: 4 dan j : 3\n",
      "i: 4 dan j : 4\n"
     ]
    }
   ],
   "source": [
    "#nested for\n",
    "\n",
    "for i in range(1,5):\n",
    "    for j in range(1,5):\n",
    "        print(f\"i: {i} dan j : {j}\")"
   ]
  },
  {
   "cell_type": "code",
   "execution_count": null,
   "id": "f4998240",
   "metadata": {},
   "outputs": [],
   "source": []
  }
 ],
 "metadata": {
  "kernelspec": {
   "display_name": "Python 3 (ipykernel)",
   "language": "python",
   "name": "python3"
  },
  "language_info": {
   "codemirror_mode": {
    "name": "ipython",
    "version": 3
   },
   "file_extension": ".py",
   "mimetype": "text/x-python",
   "name": "python",
   "nbconvert_exporter": "python",
   "pygments_lexer": "ipython3",
   "version": "3.9.12"
  }
 },
 "nbformat": 4,
 "nbformat_minor": 5
}
